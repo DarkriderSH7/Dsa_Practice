{
 "cells": [
  {
   "cell_type": "code",
   "execution_count": null,
   "id": "d622483f",
   "metadata": {},
   "outputs": [],
   "source": [
    "class StoreItem:\n",
    "    def __init__(self,name:str, price:int):\n",
    "        self.name=name\n",
    "        self.price=price\n",
    "        \n",
    "        # Add: name, price\n",
    "\n",
    "\n",
    "chips = StoreItem(\"Chips\", 1.99) # Don't modify this line\n",
    "print(chips.name)\n",
    "print(chips.price)\n",
    "# TODO: Access the attributes of the chips object and display them\n",
    "\n",
    "\n"
   ]
  },
  {
   "cell_type": "code",
   "execution_count": null,
   "id": "15ccd3bf",
   "metadata": {},
   "outputs": [],
   "source": [
    "class Account:\n",
    "    def __init__(self,name:str, balance:int ):\n",
    "        self.name=name\n",
    "        self._balance=balance\n",
    "    \n",
    "    def display_balance(self) -> None:\n",
    "        print(f\"Balance: ${self._balance}\")\n",
    "\n",
    "\n",
    "# Do not modify the code below this line\n",
    "account = Account(\"John\", 1000)\n",
    "account.display_balance()\n"
   ]
  },
  {
   "cell_type": "code",
   "execution_count": null,
   "id": "9d97f1b7",
   "metadata": {},
   "outputs": [],
   "source": [
    "class PasswordManager:\n",
    "    def __init__(self, name:str):\n",
    "        self.__name=name  \n",
    "    \n",
    "    # TODO: Implement the verify_password method\n",
    "    def verify_password(self, password:str):\n",
    "        if self.__name==password:\n",
    "            return True\n",
    "        else:\n",
    "            return False        \n",
    "\n",
    "\n",
    "\n",
    "# Don't modify the code below this line\n",
    "my_password = PasswordManager(\"secret123\")\n",
    "print(my_password.verify_password(\"secret123\"))  # Should print: True\n",
    "print(my_password.verify_password(\"wrong\"))      # Should print: False\n"
   ]
  },
  {
   "cell_type": "code",
   "execution_count": null,
   "id": "9a1c4d55",
   "metadata": {},
   "outputs": [],
   "source": [
    "class BankAccount:\n",
    "    def __init__(self, balance: int): \n",
    "        self.__balance = balance # Don't modify this line\n",
    "        \n",
    "    @property\n",
    "    def balance(self) -> int: # TODO: Convert this method to use the @property decorator\n",
    "        return self.__balance\n",
    "    \n",
    "    @balance.setter    \n",
    "    def balance(self, value: int) -> None: # TODO: Convert this method to use the @property decorator\n",
    "        if value >= 0:\n",
    "            self.__balance = value\n",
    "        else:\n",
    "            print(\"Balance cannot be negative!\")\n",
    "\n",
    "\n",
    "# Don't modify the code below this line\n",
    "account = BankAccount(1000)\n",
    "print(account.balance)\n",
    "account.balance = -100\n"
   ]
  }
 ],
 "metadata": {
  "language_info": {
   "name": "python"
  }
 },
 "nbformat": 4,
 "nbformat_minor": 5
}
