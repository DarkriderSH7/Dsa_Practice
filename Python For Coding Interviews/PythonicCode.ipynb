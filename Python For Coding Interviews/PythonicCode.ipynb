{
 "cells": [
  {
   "cell_type": "code",
   "execution_count": null,
   "id": "b1807af2",
   "metadata": {},
   "outputs": [],
   "source": [
    "from typing import List, Tuple\n",
    "\n",
    "\n",
    "def sum_3_integers(triplet: List[int]) -> int:\n",
    "    x1,x2,x3=triplet\n",
    "    return x1+x2+x3\n",
    "\n",
    "\n",
    "def compute_volume(box_dimensions: Tuple[int, int, int]) -> int:\n",
    "    x1,x2,x3=box_dimensions\n",
    "    return x1*x2*x3\n",
    "  \n",
    "\n",
    "# do not modify below this line\n",
    "print(sum_3_integers([1, 2, 3]))\n",
    "print(sum_3_integers([4, 6, 2]))\n",
    "\n",
    "print(compute_volume((1, 2, 3)))\n",
    "print(compute_volume((3, 2, 1)))\n",
    "print(compute_volume((3, 9, 7)))\n",
    "\n",
    "# sum_3_integers(triplet: List[int]) -> int that takes a list of 3 integers and returns the sum of the integers.\n",
    "# compute_volume(box_dimensions: Tuple[int, int, int]) -> int that takes a list of 3 integers representing [width, height, depth] of a box and returns the volume of it."
   ]
  },
  {
   "cell_type": "code",
   "execution_count": null,
   "id": "83e5f885",
   "metadata": {},
   "outputs": [],
   "source": [
    "from typing import List, Tuple\n",
    "\n",
    "\n",
    "def best_student(scores: List[Tuple[str, int]]) -> str:\n",
    "    best=0\n",
    "    bestname=\"\"\n",
    "    for name,score in scores:\n",
    "        if score>best:\n",
    "            best,bestname=score,name\n",
    "    return bestname\n",
    "\n",
    "\n",
    "# do not modify below this line\n",
    "print(best_student([(\"Alice\", 90), (\"Bob\", 80), (\"Charlie\", 70)]))\n",
    "print(best_student([(\"Alice\", 90), (\"Bob\", 80), (\"Charlie\", 100)]))\n",
    "print(best_student([(\"Alice\", 90), (\"Bob\", 100), (\"Charlie\", 70)]))\n",
    "print(best_student([(\"Alice\", 90), (\"Bob\", 90), (\"Charlie\", 80), (\"David\", 100)]))\n",
    "\n",
    "# Challenge\n",
    "# Implement the following function using unpacking:\n",
    "\n",
    "# best_student(scores: List[Tuple[str, int]]) -> str: that takes a list of tuples. Each tuple represents the (name, score) of a student. Find the student with the highest score and return their name.\n",
    "# You may assume that a score will never be less than 0 and that only one student will have the highest score.\n",
    "\n"
   ]
  }
 ],
 "metadata": {
  "language_info": {
   "name": "python"
  }
 },
 "nbformat": 4,
 "nbformat_minor": 5
}
