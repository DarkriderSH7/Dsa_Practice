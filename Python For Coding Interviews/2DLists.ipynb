{
 "cells": [
  {
   "cell_type": "code",
   "execution_count": null,
   "id": "ed4bf541",
   "metadata": {},
   "outputs": [],
   "source": [
    "from typing import List\n",
    "\n",
    "\n",
    "def find_max_in_each_list(nested_arr: List[List[int]]) -> List[int]:\n",
    "    output=[]\n",
    "    for i in nested_arr:\n",
    "        output.append(max(i))\n",
    "    return output\n",
    "\n",
    "\n",
    "# do not modify below this line\n",
    "print(find_max_in_each_list([[1, 2], [3, 4, 2]]))\n",
    "print(find_max_in_each_list([[1, 2, 3], [4, 5, 6], [7, 8, 9]]))\n",
    "print(find_max_in_each_list([[5, 6, 2, 8], [9], [9, 10], [11, 10, 11]]))\n",
    "\n",
    "# #hallenge\n",
    "# find_max_in_each_list(nested_arr: List[List[int]]) -> List[int] which takes a 2D list of integers and returns a list of the maximum element in each sublist. The returned list should contain the maximum element from each sublist in the order they appear in the input list.\n",
    "# Example: find_max_in_each_list([[1, 2], [3, 4, 2]]) should return [2, 4].\n",
    "# You may assume that each sublist will contain at least one element."
   ]
  },
  {
   "cell_type": "code",
   "execution_count": null,
   "id": "63733312",
   "metadata": {},
   "outputs": [],
   "source": [
    "from typing import List\n",
    "\n",
    "\n",
    "def in_bounds(grid: List[List[int]], r: int, c: int) -> bool:\n",
    "    row=len(grid)\n",
    "    col=len(grid[0])\n",
    "    if r<row and r>=0 or c<col and c>=0:\n",
    "        return True\n",
    "    return False\n",
    "        \n",
    "\n",
    "\n",
    "# do not modify below this line\n",
    "print(in_bounds([[1, 2, 3], [4, 5, 6], [7, 8, 9]], 0, 0))\n",
    "print(in_bounds([[1, 2, 3], [4, 5, 6], [7, 8, 9]], 2, 2))\n",
    "print(in_bounds([[1, 2, 3], [4, 5, 6], [7, 8, 9]], 1, 1))\n",
    "print(in_bounds([[1, 2, 3], [4, 5, 6], [7, 8, 9]], 4, 3))\n",
    "print(in_bounds([[1, 2, 3], [4, 5, 6], [7, 8, 9]], 3, 4))\n",
    "print(in_bounds([[1, 2, 3], [4, 5, 6], [7, 8, 9]], 3, -1))\n",
    "print(in_bounds([[1, 2, 3], [4, 5, 6], [7, 8, 9]], -1, 3))\n",
    "\n",
    "\n",
    "# Challenge\n",
    "# Implement the following function using the grid operations described above:\n",
    "\n",
    "# in_bounds(grid: List[int], r: int, c: int) -> bool that takes a 2D grid grid and two integers r and c, where r is the index of a row and c is the index of a column. It should return True if the cell at row r and column c is within the bounds of the grid, and False otherwise.\n",
    "# Example: in_bounds([[1, 2], [3, 4]], 2, 1) should return False, there is no row at index 2."
   ]
  },
  {
   "cell_type": "code",
   "execution_count": null,
   "id": "0cd49ec6",
   "metadata": {},
   "outputs": [],
   "source": [
    "from typing import List\n",
    "\n",
    "\n",
    "def create_grid(rows: int, cols: int, value: int) -> List[List[int]]:\n",
    "    answer=[[value for i in range(cols)] for j in range(rows)]\n",
    "    return answer\n",
    "\n",
    "\n",
    "# do not modify below this line\n",
    "print(create_grid(2, 3, 0))\n",
    "print(create_grid(3, 2, 1))\n",
    "print(create_grid(4, 4, 4))\n",
    "print(create_grid(1, 1, 5))\n",
    "print(create_grid(1, 5, 5))\n",
    "\n",
    "\n",
    "# Challenge\n",
    "# Implement the following function using the grid operations described above:\n",
    "\n",
    "# create_grid(rows: int, cols: int, value: int) -> List[List[int]] that takes three integers rows, cols, and value. It returns a 2-D list of size rows x cols where each element is equal to value."
   ]
  }
 ],
 "metadata": {
  "language_info": {
   "name": "python"
  }
 },
 "nbformat": 4,
 "nbformat_minor": 5
}
