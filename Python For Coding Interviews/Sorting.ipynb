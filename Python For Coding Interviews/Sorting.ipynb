{
 "cells": [
  {
   "cell_type": "code",
   "execution_count": null,
   "id": "9f1ce7e1",
   "metadata": {},
   "outputs": [],
   "source": [
    "from typing import List\n",
    "\n",
    "\n",
    "def sort_words(words: List[str]) -> List[str]:\n",
    "    \n",
    "    words.sort(key=len, reverse=True)\n",
    "    return words\n",
    "\n",
    "\n",
    "def sort_numbers(numbers: List[int]) -> List[int]:\n",
    "    \n",
    "    numbers.sort(key=abs)\n",
    "    return numbers\n",
    "\n",
    "\n",
    "# do not modify below this line\n",
    "print(sort_words([\"cherry\", \"apple\", \"blueberry\", \"banana\", \"watermelon\", \"zucchini\", \"kiwi\", \"pear\"]))\n",
    "\n",
    "print(sort_numbers([1, -5, -3, 2, 4, 11, -19, 9, -2, 5, -6, 7, -4, 2, 6]))\n",
    "\n",
    "\n",
    "# sort_words(words: List[str]) -> List[str] - This function accepts a list of words and returns a new list of words sorted based on their length, in descending order.\n",
    "# sort_numbers(numbers: List[int]) -> List[int] - This function accepts a list of numbers and returns a new list of numbers sorted based on their absolute value, in ascending order. Hint: You may use the abs() function to get the absolute value of a number."
   ]
  },
  {
   "cell_type": "code",
   "execution_count": null,
   "id": "0f770a28",
   "metadata": {},
   "outputs": [],
   "source": [
    "from typing import List\n",
    "\n",
    "\n",
    "def sort_words(words: List[str]) -> List[str]:\n",
    "    words.sort(key=lambda word: len(word),reverse=True)\n",
    "    return words\n",
    "\n",
    "\n",
    "def sort_numbers(numbers: List[int]) -> List[int]:\n",
    "    numbers.sort(key=lambda word:abs(word))\n",
    "    return numbers\n",
    "\n",
    "# do not modify below this line\n",
    "print(sort_words([\"cherry\", \"apple\", \"blueberry\", \"banana\", \"watermelon\", \"zucchini\", \"kiwi\", \"pear\"]))\n",
    "\n",
    "print(sort_numbers([1, -5, -3, 2, 4, 11, -19, 9, -2, 5, -6, 7, -4, 2, 6]))\n",
    "\n",
    "# sort_words(words: List[str]) -> List[str] - This function accepts a list of words and returns a new list of words sorted based on their length, in descending order. Use a lambda function to sort the words by their length.\n",
    "# sort_numbers(numbers: List[int]) -> List[int] - This function accepts a list of numbers and returns a new list of numbers sorted based on their absolute value, in ascending order. Use a lambda function to sort the numbers by their absolute value.\n",
    "\n"
   ]
  },
  {
   "cell_type": "code",
   "execution_count": null,
   "id": "cc19faa1",
   "metadata": {},
   "outputs": [],
   "source": [
    "from typing import List\n",
    "\n",
    "\n",
    "def sort_words(words: List[str]) -> List[str]:\n",
    "    newlist=sorted(words)\n",
    "    return newlist    \n",
    "\n",
    "\n",
    "def sort_numbers(numbers: List[int]) -> List[int]:\n",
    "   \n",
    "    newlist=sorted(numbers, key=lambda x: abs(x),reverse=True)\n",
    "    return newlist    \n",
    "\n",
    "\n",
    "# do not modify below this line\n",
    "original_words = [\"cherry\", \"apple\", \"blueberry\", \"banana\", \"watermelon\", \"zucchini\", \"kiwi\", \"pear\"]\n",
    "\n",
    "print(original_words)\n",
    "print(sort_words(original_words))\n",
    "\n",
    "original_numbers = [1, -5, -3, 2, 4, 11, -19, 9, -2, 5, -6, 7, -4, 2, 6]\n",
    "\n",
    "print(original_numbers)\n",
    "print(sort_numbers(original_numbers))\n",
    "\n",
    "\n",
    "# sort_words(words: List[str]) -> List[str] - This function accepts a list of words and returns a new list of words sorted in ascending order. Do not modify the original list.\n",
    "# sort_numbers(numbers: List[int]) -> List[int] - This function accepts a list of numbers and returns a new list of numbers sorted in descending order based on their absolute value. Do not modify the original list.\n"
   ]
  },
  {
   "cell_type": "code",
   "execution_count": null,
   "id": "651fca3f",
   "metadata": {},
   "outputs": [],
   "source": []
  }
 ],
 "metadata": {
  "language_info": {
   "name": "python"
  }
 },
 "nbformat": 4,
 "nbformat_minor": 5
}
