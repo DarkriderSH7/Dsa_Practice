{
 "cells": [
  {
   "cell_type": "code",
   "execution_count": null,
   "id": "65c726f7",
   "metadata": {},
   "outputs": [],
   "source": [
    "from typing import List\n",
    "\n",
    "\n",
    "def reverse_list(arr: List[int]) -> List[int]:\n",
    "    newarr=arr.copy()\n",
    "    newarr.reverse()\n",
    "    return newarr\n",
    "\n",
    "# do not modify below this line\n",
    "print(reverse_list([1, 2, 3]))\n",
    "print(reverse_list([3, 2, 1, 4, 6, 2]))\n",
    "print(reverse_list([1, 9, 7, 3, 2, 1, 4, 6, 2]))\n",
    "\n",
    "\n",
    "# Challenge\n",
    "# Implement the following function using the stack operations described above:\n",
    "\n",
    "# reverse_list(arr: List[int]) -> List[int] that takes a list of integers and returns a new list of the integers in reverse order.\n",
    "# Hint: Recall that elements from a stack are removed in reverse order."
   ]
  },
  {
   "cell_type": "code",
   "execution_count": null,
   "id": "9347aa55",
   "metadata": {},
   "outputs": [
    {
     "name": "stdout",
     "output_type": "stream",
     "text": [
      "deque([1, 2, 3, 4, 5])\n",
      "deque([5, 1, 2, 3, 4])\n",
      "deque([4, 5, 1, 2, 3])\n",
      "deque([3, 4, 5, 1, 2])\n",
      "deque([2, 3, 4, 5, 1])\n",
      "deque([1, 2, 3, 4, 5])\n"
     ]
    }
   ],
   "source": [
    "from typing import List, Deque\n",
    "from collections import deque\n",
    "\n",
    "\n",
    "def rotate_list(arr: List[int], k: int) -> Deque[int]:\n",
    "    queue=deque(arr)\n",
    "\n",
    "    for i in range(k):\n",
    "        queue.appendleft(queue.pop())\n",
    "    return queue\n",
    "\n",
    "# do not modify below this line\n",
    "print(rotate_list([1, 2, 3, 4, 5], 0))\n",
    "print(rotate_list([1, 2, 3, 4, 5], 1))\n",
    "print(rotate_list([1, 2, 3, 4, 5], 2))\n",
    "print(rotate_list([1, 2, 3, 4, 5], 3))\n",
    "print(rotate_list([1, 2, 3, 4, 5], 4))\n",
    "print(rotate_list([1, 2, 3, 4, 5], 5))\n",
    "\n",
    "\n",
    "# Challenge\n",
    "# Implement the following function using the queue operations described above:\n",
    "\n",
    "# rotate_list(arr: List[int], k: int) -> Deque[int] that takes a list of integers arr and an integer k. It should convert the list into a deque. And next, rotate the values in the list to the right by k steps and return the resulting deque.\n",
    "# Example: rotate_list([1, 2, 3, 4, 5], 2) should return deque([4, 5, 1, 2, 3])."
   ]
  },
  {
   "cell_type": "code",
   "execution_count": null,
   "id": "266b8473",
   "metadata": {},
   "outputs": [],
   "source": [
    "from typing import List, Deque\n",
    "from collections import deque\n",
    "\n",
    "\n",
    "def rotate_list(arr: List[int], k: int) -> Deque[int]:\n",
    "    queue=deque(arr)\n",
    "\n",
    "    for i in range(k):\n",
    "        queue.append(queue.popleft())\n",
    "    return queue\n",
    "\n",
    "\n",
    "# do not modify below this line\n",
    "print(rotate_list([1, 2, 3, 4, 5], 0))\n",
    "print(rotate_list([1, 2, 3, 4, 5], 1))\n",
    "print(rotate_list([1, 2, 3, 4, 5], 2))\n",
    "print(rotate_list([1, 2, 3, 4, 5], 3))\n",
    "print(rotate_list([1, 2, 3, 4, 5], 4))\n",
    "print(rotate_list([1, 2, 3, 4, 5], 5))\n",
    "\n",
    "# Challenge\n",
    "# Implement the following function using the queue operations described above:\n",
    "\n",
    "# rotate_list(arr: List[int], k: int) -> Deque[int] that takes a list of integers arr and an integer k. It should convert the list into a deque, then rotate the values in the list to the left by k steps and return the resulting deque.\n",
    "# Example: rotate_list([1, 2, 3, 4, 5], 2) should return deque([3, 4, 5, 1, 2])."
   ]
  },
  {
   "cell_type": "code",
   "execution_count": null,
   "id": "c96364ba",
   "metadata": {},
   "outputs": [],
   "source": []
  }
 ],
 "metadata": {
  "kernelspec": {
   "display_name": "Python 3",
   "language": "python",
   "name": "python3"
  },
  "language_info": {
   "codemirror_mode": {
    "name": "ipython",
    "version": 3
   },
   "file_extension": ".py",
   "mimetype": "text/x-python",
   "name": "python",
   "nbconvert_exporter": "python",
   "pygments_lexer": "ipython3",
   "version": "3.11.9"
  }
 },
 "nbformat": 4,
 "nbformat_minor": 5
}
